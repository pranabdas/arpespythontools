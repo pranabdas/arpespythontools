{
 "cells": [
  {
   "cell_type": "code",
   "execution_count": 1,
   "id": "eb4fee51-b862-4de5-96ce-6b7c451f6497",
   "metadata": {},
   "outputs": [],
   "source": [
    "import sys\n",
    "sys.path.append('/home') \n",
    "import arpespythontools as arp \n",
    "import matplotlib.pyplot as plt\n",
    "import numpy as np\n",
    "import time\n",
    "%matplotlib inline"
   ]
  },
  {
   "cell_type": "code",
   "execution_count": 2,
   "id": "de141879-9b4f-4bf5-a0a1-227a0dd7d904",
   "metadata": {},
   "outputs": [],
   "source": [
    "url = 'https://pranabdas.github.io/drive/datasets/arpes/sample_map_data.zip'\n",
    "data, energy, theta, phi = arp.load_ses_map(url)"
   ]
  },
  {
   "cell_type": "code",
   "execution_count": 4,
   "id": "65daf0b2-f23b-4073-88e3-5dbc9a816829",
   "metadata": {},
   "outputs": [
    {
     "name": "stdout",
     "output_type": "stream",
     "text": [
      "The program took 97.2411813929998 second(s).\n"
     ]
    }
   ],
   "source": [
    "t0 = time.perf_counter()\n",
    "data_k, e_bin, kx, ky = arp.k_conv3d(data, energy, theta, phi, 16.67)\n",
    "t_final = time.perf_counter()\n",
    "print(\"The program took\", t_final - t0, \"second(s).\")"
   ]
  },
  {
   "cell_type": "code",
   "execution_count": 5,
   "id": "04524301-f928-4636-a585-38ca7e1e57dc",
   "metadata": {},
   "outputs": [],
   "source": [
    "def interp(data_slice, energy_val, theta, phi, kx, ky):\n",
    "    from scipy import interpolate\n",
    "    import numpy as np\n",
    "    \n",
    "    theta_temp = np.arcsin(kx/(0.512*np.sqrt(energy_val)))*180/np.pi\n",
    "    phi_temp = np.linspace(0, 0, len(phi))\n",
    "    theta_grid, phi_grid = np.meshgrid(theta_temp, phi_temp)\n",
    "\n",
    "    for jj in range(np.shape(data_slice)[1]):\n",
    "        for kk in range(np.shape(data_slice)[0]):\n",
    "            phi_grid[kk, jj] = np.arcsin(ky[kk]/(0.512*np.sqrt(energy_val)\\\n",
    "                    *np.cos(theta_grid[0, jj]*np.pi/180)))*180/np.pi\n",
    "\n",
    "    func = interpolate.RectBivariateSpline(phi, theta, data_slice)\n",
    "    data_k = func.ev(phi_grid, theta_grid)\n",
    "\n",
    "    # nan wrapping for outside interpolation range data points\n",
    "    mask_theta = (theta_grid < theta[0]) | (theta_grid > theta[-1])\n",
    "    mask_phi = (phi_grid < phi[0]) | (phi_grid > phi[-1])\n",
    "    mask = mask_theta | mask_phi\n",
    "    data_k[mask] = np.nan\n",
    "    return data_k\n",
    "        \n",
    "def k_conv3d_mp(data, energy, theta, phi, fermi_energy):\n",
    "    '''\n",
    "    data_k, e_bin, kx, ky = k_conv3d(data, energy, theta, phi, fermi_energy)\n",
    "    '''\n",
    "    import numpy as np\n",
    "    from multiprocessing import Pool\n",
    "    from itertools import repeat\n",
    "    import time\n",
    "    t0 = time.perf_counter()\n",
    "\n",
    "    data = np.transpose(data, (0, 2, 1))\n",
    "    # Transpose the data, 0 -> energy, 1 -> phi, 2 -> theta\n",
    "    kx_min = 0.512 * np.sqrt(energy[-1]) * np.sin(theta[0]*np.pi/180)\n",
    "    kx_max = 0.512 * np.sqrt(energy[-1]) * np.sin(theta[len(theta)-1]*np.pi/180)\n",
    "    kx = np.linspace(kx_min, kx_max, len(theta))\n",
    "\n",
    "    ky_min = 0.512 * np.sqrt(energy[-1]) * np.sin(phi[0]*np.pi/180)\n",
    "    ky_max = 0.512 * np.sqrt(energy[-1]) * np.sin(phi[len(phi)-1]*np.pi/180)\n",
    "    ky = np.linspace(ky_min, ky_max, len(phi))\n",
    "  \n",
    "    pool = Pool()\n",
    "    input_array_tuple = zip(data, energy, repeat(theta), repeat(phi), repeat(kx), repeat(ky))\n",
    "    data_k = pool.starmap(interp, input_array_tuple)\n",
    "    pool.close()\n",
    "    data_k = np.array(data_k)\n",
    "    data_k = np.transpose(data_k, (0, 2, 1)) # Transpose back to original order\n",
    "\n",
    "    e_bin = fermi_energy - energy\n",
    "    \n",
    "    t_final = time.perf_counter()\n",
    "    print(\"The program took\", t_final - t0, \"second(s).\")\n",
    "    return data_k, e_bin, kx, ky"
   ]
  },
  {
   "cell_type": "code",
   "execution_count": 6,
   "id": "37a1f287-9055-442f-9701-6d4f2bc4d52e",
   "metadata": {},
   "outputs": [
    {
     "name": "stdout",
     "output_type": "stream",
     "text": [
      "The program took 42.235067427000104 second(s).\n"
     ]
    }
   ],
   "source": [
    "data_k_mp, e_bin, kx, ky = k_conv3d_mp(data, energy, theta, phi, 16.67)"
   ]
  },
  {
   "cell_type": "code",
   "execution_count": 7,
   "id": "f96946e5-7f38-4e0d-be8c-89b9f0ff4d0d",
   "metadata": {},
   "outputs": [
    {
     "data": {
      "text/plain": [
       "True"
      ]
     },
     "execution_count": 7,
     "metadata": {},
     "output_type": "execute_result"
    }
   ],
   "source": [
    "np.array_equal(data_k, data_k_mp, equal_nan=True)"
   ]
  },
  {
   "cell_type": "code",
   "execution_count": 8,
   "id": "fe9f0bb3-53c7-45a7-a47e-420c4cd40d4c",
   "metadata": {},
   "outputs": [],
   "source": [
    "# here we change the ordering of meshgrid\n",
    "# the result is almost equal, but not exact equal to previous program\n",
    "def interp(data_slice, energy_val, theta, phi, kx, ky):\n",
    "    from scipy import interpolate\n",
    "    import numpy as np\n",
    "    \n",
    "    theta_temp = np.arcsin(kx/(0.512*np.sqrt(energy_val)))*180/np.pi\n",
    "    phi_temp = np.linspace(0, 0, len(phi))\n",
    "    theta_grid, phi_grid = np.meshgrid(theta_temp, phi_temp, indexing='ij')\n",
    "    \n",
    "    for jj in range(len(theta)):\n",
    "        for kk in range(len(phi)):\n",
    "            phi_grid[jj, kk] = np.arcsin(ky[kk]/(0.512*np.sqrt(energy_val)\\\n",
    "                    *np.cos(theta_grid[jj, 0]*np.pi/180)))*180/np.pi\n",
    "\n",
    "    func = interpolate.RectBivariateSpline(theta, phi, data_slice)\n",
    "    data_k = func.ev(theta_grid, phi_grid)\n",
    "\n",
    "    # nan wrapping for outside interpolation range data points\n",
    "    mask_theta = (theta_grid < theta[0]) | (theta_grid > theta[-1])\n",
    "    mask_phi = (phi_grid < phi[0]) | (phi_grid > phi[-1])\n",
    "    mask = mask_theta | mask_phi\n",
    "    data_k[mask] = np.nan\n",
    "    return data_k\n",
    "        \n",
    "def k_conv3d_mp_alt(data, energy, theta, phi, fermi_energy):\n",
    "    '''\n",
    "    data_k, e_bin, kx, ky = k_conv3d(data, energy, theta, phi, fermi_energy)\n",
    "    '''\n",
    "    import numpy as np\n",
    "    from multiprocessing import Pool\n",
    "    from itertools import repeat\n",
    "    import time\n",
    "    t0 = time.perf_counter()\n",
    "\n",
    "    kx_min = 0.512 * np.sqrt(energy[-1]) * np.sin(theta[0]*np.pi/180)\n",
    "    kx_max = 0.512 * np.sqrt(energy[-1]) * np.sin(theta[len(theta)-1]*np.pi/180)\n",
    "    kx = np.linspace(kx_min, kx_max, len(theta))\n",
    "\n",
    "    ky_min = 0.512 * np.sqrt(energy[-1]) * np.sin(phi[0]*np.pi/180)\n",
    "    ky_max = 0.512 * np.sqrt(energy[-1]) * np.sin(phi[len(phi)-1]*np.pi/180)\n",
    "    ky = np.linspace(ky_min, ky_max, len(phi))\n",
    "  \n",
    "    pool = Pool()\n",
    "    input_array_tuple = zip(data, energy, repeat(theta), repeat(phi), repeat(kx), repeat(ky))\n",
    "    data_k = pool.starmap(interp, input_array_tuple)\n",
    "    pool.close()\n",
    "    data_k = np.array(data_k)\n",
    "\n",
    "    e_bin = fermi_energy - energy\n",
    "    \n",
    "    t_final = time.perf_counter()\n",
    "    print(\"The program took\", t_final - t0, \"second(s).\")\n",
    "    return data_k, e_bin, kx, ky"
   ]
  },
  {
   "cell_type": "code",
   "execution_count": 9,
   "id": "d31e888c-0328-4b14-8323-73e7884f85b3",
   "metadata": {},
   "outputs": [
    {
     "name": "stdout",
     "output_type": "stream",
     "text": [
      "The program took 39.39358699400009 second(s).\n"
     ]
    }
   ],
   "source": [
    "data_k_mp_alt, e_bin, kx, ky = k_conv3d_mp_alt(data, energy, theta, phi, 16.7)"
   ]
  },
  {
   "cell_type": "code",
   "execution_count": 10,
   "id": "d957bfd4-4018-4c83-8205-4714b95d3e34",
   "metadata": {},
   "outputs": [
    {
     "data": {
      "text/plain": [
       "False"
      ]
     },
     "execution_count": 10,
     "metadata": {},
     "output_type": "execute_result"
    }
   ],
   "source": [
    "np.array_equal(data_k_mp, data_k_mp_alt, equal_nan=True)"
   ]
  },
  {
   "cell_type": "code",
   "execution_count": 11,
   "id": "550f63c6-9365-4109-88ee-93f4228b0e69",
   "metadata": {},
   "outputs": [
    {
     "name": "stdout",
     "output_type": "stream",
     "text": [
      "181.98429096643224\n"
     ]
    },
    {
     "data": {
      "text/plain": [
       "181.98429096643216"
      ]
     },
     "execution_count": 11,
     "metadata": {},
     "output_type": "execute_result"
    }
   ],
   "source": [
    "print(data_k_mp_alt[150][271][25])\n",
    "data_k_mp[150][271][25]"
   ]
  },
  {
   "cell_type": "code",
   "execution_count": 12,
   "id": "35debf79-395d-49c3-865e-f8fd9f66301b",
   "metadata": {},
   "outputs": [
    {
     "data": {
      "text/plain": [
       "True"
      ]
     },
     "execution_count": 12,
     "metadata": {},
     "output_type": "execute_result"
    }
   ],
   "source": [
    "np.array_equal(np.isnan(data_k_mp), np.isnan(data_k_mp_alt))"
   ]
  },
  {
   "cell_type": "code",
   "execution_count": null,
   "id": "6fc404bc-9cc1-4a6f-b9dd-9059ba9741bf",
   "metadata": {},
   "outputs": [],
   "source": []
  }
 ],
 "metadata": {
  "kernelspec": {
   "display_name": "Python 3 (ipykernel)",
   "language": "python",
   "name": "python3"
  },
  "language_info": {
   "codemirror_mode": {
    "name": "ipython",
    "version": 3
   },
   "file_extension": ".py",
   "mimetype": "text/x-python",
   "name": "python",
   "nbconvert_exporter": "python",
   "pygments_lexer": "ipython3",
   "version": "3.10.4"
  }
 },
 "nbformat": 4,
 "nbformat_minor": 5
}
